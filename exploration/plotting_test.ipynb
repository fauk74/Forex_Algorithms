{
 "cells": [
  {
   "cell_type": "code",
   "execution_count": 3,
   "metadata": {},
   "outputs": [],
   "source": [
    "import pandas as pd\n",
    "import plotly.graph_objects as go\n",
    "import datetime as dt\n",
    "from plotting import CandlePlot"
   ]
  },
  {
   "cell_type": "code",
   "execution_count": null,
   "metadata": {},
   "outputs": [],
   "source": []
  },
  {
   "cell_type": "code",
   "execution_count": 4,
   "metadata": {},
   "outputs": [],
   "source": [
    "\n",
    "pair=\"EUR_USD\"\n",
    "granularity=\"H4\"\n",
    "df=pd.read_pickle(f\"../data/{pair}_{granularity}.pkl\")"
   ]
  },
  {
   "cell_type": "code",
   "execution_count": 5,
   "metadata": {},
   "outputs": [],
   "source": [
    "df['sTime']=[dt.datetime.strftime(x, \"s%y-%m-%d %H:%M\") for x in df.time]"
   ]
  },
  {
   "cell_type": "code",
   "execution_count": 6,
   "metadata": {},
   "outputs": [],
   "source": [
    "df_plot=df.iloc[:100]"
   ]
  },
  {
   "cell_type": "code",
   "execution_count": 8,
   "metadata": {},
   "outputs": [
    {
     "data": {
      "application/vnd.plotly.v1+json": {
       "config": {
        "plotlyServerURL": "https://plot.ly"
       },
       "data": [
        {
         "close": [
          1.08512,
          1.08506,
          1.0841,
          1.08828,
          1.08813,
          1.0874,
          1.08762,
          1.08891,
          1.08655,
          1.08788,
          1.08804,
          1.09013,
          1.09076,
          1.09352,
          1.09766,
          1.09796,
          1.1001,
          1.0988,
          1.10002,
          1.10448,
          1.09869,
          1.10013,
          1.10277,
          1.10566,
          1.10433,
          1.10796,
          1.1122,
          1.11797,
          1.11327,
          1.11322,
          1.11451,
          1.11268,
          1.11192,
          1.1159,
          1.11728,
          1.11664,
          1.1157,
          1.11569,
          1.11254,
          1.11236,
          1.11356,
          1.1137,
          1.11347,
          1.11734,
          1.11868,
          1.12142,
          1.12362,
          1.12457,
          1.12285,
          1.1294,
          1.13228,
          1.13054,
          1.12839,
          1.13599,
          1.14012,
          1.14024,
          1.14358,
          1.14708,
          1.144,
          1.13854,
          1.13753,
          1.13602,
          1.13802,
          1.13061,
          1.12808,
          1.13187,
          1.13376,
          1.13134,
          1.13391,
          1.12687,
          1.12697,
          1.12716,
          1.1296,
          1.12676,
          1.12157,
          1.1146,
          1.11858,
          1.11667,
          1.12191,
          1.12077,
          1.11102,
          1.1081,
          1.11054,
          1.1118,
          1.11334,
          1.1226,
          1.1166,
          1.11616,
          1.11827,
          1.11712,
          1.11794,
          1.1111,
          1.09887,
          1.09662,
          1.0997,
          1.09927,
          1.10308,
          1.09728,
          1.09304,
          1.08092
         ],
         "decreasing": {
          "fillcolor": "#CC2E3C",
          "line": {
           "color": "#FF3A4C"
          }
         },
         "high": [
          1.08676,
          1.08661,
          1.08506,
          1.08828,
          1.08904,
          1.08835,
          1.08786,
          1.08977,
          1.0909,
          1.08942,
          1.09,
          1.09129,
          1.09148,
          1.0948,
          1.09778,
          1.10066,
          1.10034,
          1.10052,
          1.10046,
          1.10532,
          1.1045,
          1.10089,
          1.10462,
          1.1074,
          1.10635,
          1.10931,
          1.11648,
          1.11848,
          1.11837,
          1.11478,
          1.11556,
          1.11512,
          1.1139,
          1.12139,
          1.11952,
          1.11853,
          1.11712,
          1.11876,
          1.11672,
          1.11454,
          1.11423,
          1.11427,
          1.11437,
          1.11742,
          1.12002,
          1.12167,
          1.1245,
          1.12464,
          1.12488,
          1.12956,
          1.13408,
          1.13548,
          1.1326,
          1.13964,
          1.14963,
          1.14756,
          1.14392,
          1.14847,
          1.1479,
          1.14584,
          1.14146,
          1.14014,
          1.13898,
          1.13944,
          1.13311,
          1.13256,
          1.13388,
          1.13667,
          1.13516,
          1.1352,
          1.12886,
          1.12764,
          1.13338,
          1.13198,
          1.13015,
          1.12536,
          1.12264,
          1.12088,
          1.12213,
          1.12206,
          1.12078,
          1.11334,
          1.11174,
          1.11996,
          1.11337,
          1.12296,
          1.12367,
          1.11686,
          1.11864,
          1.11837,
          1.11894,
          1.11815,
          1.11191,
          1.10154,
          1.10207,
          1.1023,
          1.10331,
          1.10453,
          1.10178,
          1.0947
         ],
         "increasing": {
          "fillcolor": "#24A06B",
          "line": {
           "color": "#2EC886"
          }
         },
         "line": {
          "width": 1
         },
         "low": [
          1.0851,
          1.08476,
          1.08302,
          1.08321,
          1.08721,
          1.08675,
          1.08625,
          1.08655,
          1.08565,
          1.08551,
          1.08748,
          1.08791,
          1.09011,
          1.09059,
          1.09329,
          1.09629,
          1.09781,
          1.09859,
          1.09824,
          1.09914,
          1.09684,
          1.0951,
          1.09903,
          1.10364,
          1.1042,
          1.10384,
          1.10774,
          1.11079,
          1.11238,
          1.11204,
          1.11288,
          1.11002,
          1.10954,
          1.11156,
          1.11585,
          1.11622,
          1.11554,
          1.11434,
          1.11096,
          1.10955,
          1.11234,
          1.11313,
          1.1134,
          1.11196,
          1.11566,
          1.1167,
          1.1192,
          1.12116,
          1.12262,
          1.12192,
          1.12929,
          1.12874,
          1.12835,
          1.13356,
          1.1356,
          1.13812,
          1.13655,
          1.13763,
          1.14273,
          1.1377,
          1.13719,
          1.13323,
          1.1336,
          1.12966,
          1.12749,
          1.12781,
          1.13098,
          1.13093,
          1.13015,
          1.12575,
          1.12667,
          1.12511,
          1.12666,
          1.1254,
          1.11981,
          1.10554,
          1.11444,
          1.11524,
          1.1166,
          1.11624,
          1.11093,
          1.1055,
          1.10577,
          1.10692,
          1.10854,
          1.11084,
          1.11424,
          1.10944,
          1.11457,
          1.11585,
          1.11603,
          1.11102,
          1.09732,
          1.09548,
          1.09586,
          1.09911,
          1.0985,
          1.09556,
          1.09282,
          1.08074
         ],
         "opacity": 1,
         "open": [
          1.08588,
          1.08512,
          1.08505,
          1.08409,
          1.08828,
          1.08813,
          1.0874,
          1.08762,
          1.0889,
          1.08656,
          1.08789,
          1.08833,
          1.09014,
          1.09076,
          1.09351,
          1.09768,
          1.09796,
          1.09998,
          1.0988,
          1.10002,
          1.10446,
          1.0987,
          1.10012,
          1.10446,
          1.10568,
          1.10433,
          1.10796,
          1.11221,
          1.11796,
          1.11334,
          1.11321,
          1.1145,
          1.11266,
          1.11193,
          1.11591,
          1.11728,
          1.11666,
          1.1157,
          1.11567,
          1.11255,
          1.11236,
          1.11362,
          1.1137,
          1.11346,
          1.11733,
          1.11866,
          1.12143,
          1.12399,
          1.12458,
          1.12286,
          1.12941,
          1.13229,
          1.13056,
          1.1351,
          1.13601,
          1.14011,
          1.14023,
          1.14357,
          1.14707,
          1.144,
          1.13852,
          1.13755,
          1.13604,
          1.138,
          1.13059,
          1.12808,
          1.13188,
          1.13377,
          1.13133,
          1.13392,
          1.12686,
          1.12697,
          1.12715,
          1.12962,
          1.12678,
          1.12155,
          1.11458,
          1.11858,
          1.1167,
          1.12189,
          1.12075,
          1.11103,
          1.10812,
          1.10692,
          1.11182,
          1.11332,
          1.12261,
          1.11662,
          1.11614,
          1.11827,
          1.1171,
          1.11795,
          1.11108,
          1.09888,
          1.09664,
          1.0997,
          1.09925,
          1.10306,
          1.09726,
          1.09306
         ],
         "type": "candlestick",
         "x": [
          "s20-02-25 02:00",
          "s20-02-25 06:00",
          "s20-02-25 10:00",
          "s20-02-25 14:00",
          "s20-02-25 18:00",
          "s20-02-25 22:00",
          "s20-02-26 02:00",
          "s20-02-26 06:00",
          "s20-02-26 10:00",
          "s20-02-26 14:00",
          "s20-02-26 18:00",
          "s20-02-26 22:00",
          "s20-02-27 02:00",
          "s20-02-27 06:00",
          "s20-02-27 10:00",
          "s20-02-27 14:00",
          "s20-02-27 18:00",
          "s20-02-27 22:00",
          "s20-02-28 02:00",
          "s20-02-28 06:00",
          "s20-02-28 10:00",
          "s20-02-28 14:00",
          "s20-02-28 18:00",
          "s20-03-01 22:00",
          "s20-03-02 02:00",
          "s20-03-02 06:00",
          "s20-03-02 10:00",
          "s20-03-02 14:00",
          "s20-03-02 18:00",
          "s20-03-02 22:00",
          "s20-03-03 02:00",
          "s20-03-03 06:00",
          "s20-03-03 10:00",
          "s20-03-03 14:00",
          "s20-03-03 18:00",
          "s20-03-03 22:00",
          "s20-03-04 02:00",
          "s20-03-04 06:00",
          "s20-03-04 10:00",
          "s20-03-04 14:00",
          "s20-03-04 18:00",
          "s20-03-04 22:00",
          "s20-03-05 02:00",
          "s20-03-05 06:00",
          "s20-03-05 10:00",
          "s20-03-05 14:00",
          "s20-03-05 18:00",
          "s20-03-05 22:00",
          "s20-03-06 02:00",
          "s20-03-06 06:00",
          "s20-03-06 10:00",
          "s20-03-06 14:00",
          "s20-03-06 18:00",
          "s20-03-08 21:00",
          "s20-03-09 01:00",
          "s20-03-09 05:00",
          "s20-03-09 09:00",
          "s20-03-09 13:00",
          "s20-03-09 17:00",
          "s20-03-09 21:00",
          "s20-03-10 01:00",
          "s20-03-10 05:00",
          "s20-03-10 09:00",
          "s20-03-10 13:00",
          "s20-03-10 17:00",
          "s20-03-10 21:00",
          "s20-03-11 01:00",
          "s20-03-11 05:00",
          "s20-03-11 09:00",
          "s20-03-11 13:00",
          "s20-03-11 17:00",
          "s20-03-11 21:00",
          "s20-03-12 01:00",
          "s20-03-12 05:00",
          "s20-03-12 09:00",
          "s20-03-12 13:00",
          "s20-03-12 17:00",
          "s20-03-12 21:00",
          "s20-03-13 01:00",
          "s20-03-13 05:00",
          "s20-03-13 09:00",
          "s20-03-13 13:00",
          "s20-03-13 17:00",
          "s20-03-15 21:00",
          "s20-03-16 01:00",
          "s20-03-16 05:00",
          "s20-03-16 09:00",
          "s20-03-16 13:00",
          "s20-03-16 17:00",
          "s20-03-16 21:00",
          "s20-03-17 01:00",
          "s20-03-17 05:00",
          "s20-03-17 09:00",
          "s20-03-17 13:00",
          "s20-03-17 17:00",
          "s20-03-17 21:00",
          "s20-03-18 01:00",
          "s20-03-18 05:00",
          "s20-03-18 09:00",
          "s20-03-18 13:00"
         ]
        }
       ],
       "layout": {
        "font": {
         "color": "#e1e1e1",
         "size": 8
        },
        "height": 400,
        "margin": {
         "b": 10,
         "l": 10,
         "r": 10,
         "t": 10
        },
        "paper_bgcolor": "#2c303c",
        "plot_bgcolor": "#2c303c",
        "template": {
         "data": {
          "bar": [
           {
            "error_x": {
             "color": "#2a3f5f"
            },
            "error_y": {
             "color": "#2a3f5f"
            },
            "marker": {
             "line": {
              "color": "#E5ECF6",
              "width": 0.5
             },
             "pattern": {
              "fillmode": "overlay",
              "size": 10,
              "solidity": 0.2
             }
            },
            "type": "bar"
           }
          ],
          "barpolar": [
           {
            "marker": {
             "line": {
              "color": "#E5ECF6",
              "width": 0.5
             },
             "pattern": {
              "fillmode": "overlay",
              "size": 10,
              "solidity": 0.2
             }
            },
            "type": "barpolar"
           }
          ],
          "carpet": [
           {
            "aaxis": {
             "endlinecolor": "#2a3f5f",
             "gridcolor": "white",
             "linecolor": "white",
             "minorgridcolor": "white",
             "startlinecolor": "#2a3f5f"
            },
            "baxis": {
             "endlinecolor": "#2a3f5f",
             "gridcolor": "white",
             "linecolor": "white",
             "minorgridcolor": "white",
             "startlinecolor": "#2a3f5f"
            },
            "type": "carpet"
           }
          ],
          "choropleth": [
           {
            "colorbar": {
             "outlinewidth": 0,
             "ticks": ""
            },
            "type": "choropleth"
           }
          ],
          "contour": [
           {
            "colorbar": {
             "outlinewidth": 0,
             "ticks": ""
            },
            "colorscale": [
             [
              0,
              "#0d0887"
             ],
             [
              0.1111111111111111,
              "#46039f"
             ],
             [
              0.2222222222222222,
              "#7201a8"
             ],
             [
              0.3333333333333333,
              "#9c179e"
             ],
             [
              0.4444444444444444,
              "#bd3786"
             ],
             [
              0.5555555555555556,
              "#d8576b"
             ],
             [
              0.6666666666666666,
              "#ed7953"
             ],
             [
              0.7777777777777778,
              "#fb9f3a"
             ],
             [
              0.8888888888888888,
              "#fdca26"
             ],
             [
              1,
              "#f0f921"
             ]
            ],
            "type": "contour"
           }
          ],
          "contourcarpet": [
           {
            "colorbar": {
             "outlinewidth": 0,
             "ticks": ""
            },
            "type": "contourcarpet"
           }
          ],
          "heatmap": [
           {
            "colorbar": {
             "outlinewidth": 0,
             "ticks": ""
            },
            "colorscale": [
             [
              0,
              "#0d0887"
             ],
             [
              0.1111111111111111,
              "#46039f"
             ],
             [
              0.2222222222222222,
              "#7201a8"
             ],
             [
              0.3333333333333333,
              "#9c179e"
             ],
             [
              0.4444444444444444,
              "#bd3786"
             ],
             [
              0.5555555555555556,
              "#d8576b"
             ],
             [
              0.6666666666666666,
              "#ed7953"
             ],
             [
              0.7777777777777778,
              "#fb9f3a"
             ],
             [
              0.8888888888888888,
              "#fdca26"
             ],
             [
              1,
              "#f0f921"
             ]
            ],
            "type": "heatmap"
           }
          ],
          "heatmapgl": [
           {
            "colorbar": {
             "outlinewidth": 0,
             "ticks": ""
            },
            "colorscale": [
             [
              0,
              "#0d0887"
             ],
             [
              0.1111111111111111,
              "#46039f"
             ],
             [
              0.2222222222222222,
              "#7201a8"
             ],
             [
              0.3333333333333333,
              "#9c179e"
             ],
             [
              0.4444444444444444,
              "#bd3786"
             ],
             [
              0.5555555555555556,
              "#d8576b"
             ],
             [
              0.6666666666666666,
              "#ed7953"
             ],
             [
              0.7777777777777778,
              "#fb9f3a"
             ],
             [
              0.8888888888888888,
              "#fdca26"
             ],
             [
              1,
              "#f0f921"
             ]
            ],
            "type": "heatmapgl"
           }
          ],
          "histogram": [
           {
            "marker": {
             "pattern": {
              "fillmode": "overlay",
              "size": 10,
              "solidity": 0.2
             }
            },
            "type": "histogram"
           }
          ],
          "histogram2d": [
           {
            "colorbar": {
             "outlinewidth": 0,
             "ticks": ""
            },
            "colorscale": [
             [
              0,
              "#0d0887"
             ],
             [
              0.1111111111111111,
              "#46039f"
             ],
             [
              0.2222222222222222,
              "#7201a8"
             ],
             [
              0.3333333333333333,
              "#9c179e"
             ],
             [
              0.4444444444444444,
              "#bd3786"
             ],
             [
              0.5555555555555556,
              "#d8576b"
             ],
             [
              0.6666666666666666,
              "#ed7953"
             ],
             [
              0.7777777777777778,
              "#fb9f3a"
             ],
             [
              0.8888888888888888,
              "#fdca26"
             ],
             [
              1,
              "#f0f921"
             ]
            ],
            "type": "histogram2d"
           }
          ],
          "histogram2dcontour": [
           {
            "colorbar": {
             "outlinewidth": 0,
             "ticks": ""
            },
            "colorscale": [
             [
              0,
              "#0d0887"
             ],
             [
              0.1111111111111111,
              "#46039f"
             ],
             [
              0.2222222222222222,
              "#7201a8"
             ],
             [
              0.3333333333333333,
              "#9c179e"
             ],
             [
              0.4444444444444444,
              "#bd3786"
             ],
             [
              0.5555555555555556,
              "#d8576b"
             ],
             [
              0.6666666666666666,
              "#ed7953"
             ],
             [
              0.7777777777777778,
              "#fb9f3a"
             ],
             [
              0.8888888888888888,
              "#fdca26"
             ],
             [
              1,
              "#f0f921"
             ]
            ],
            "type": "histogram2dcontour"
           }
          ],
          "mesh3d": [
           {
            "colorbar": {
             "outlinewidth": 0,
             "ticks": ""
            },
            "type": "mesh3d"
           }
          ],
          "parcoords": [
           {
            "line": {
             "colorbar": {
              "outlinewidth": 0,
              "ticks": ""
             }
            },
            "type": "parcoords"
           }
          ],
          "pie": [
           {
            "automargin": true,
            "type": "pie"
           }
          ],
          "scatter": [
           {
            "fillpattern": {
             "fillmode": "overlay",
             "size": 10,
             "solidity": 0.2
            },
            "type": "scatter"
           }
          ],
          "scatter3d": [
           {
            "line": {
             "colorbar": {
              "outlinewidth": 0,
              "ticks": ""
             }
            },
            "marker": {
             "colorbar": {
              "outlinewidth": 0,
              "ticks": ""
             }
            },
            "type": "scatter3d"
           }
          ],
          "scattercarpet": [
           {
            "marker": {
             "colorbar": {
              "outlinewidth": 0,
              "ticks": ""
             }
            },
            "type": "scattercarpet"
           }
          ],
          "scattergeo": [
           {
            "marker": {
             "colorbar": {
              "outlinewidth": 0,
              "ticks": ""
             }
            },
            "type": "scattergeo"
           }
          ],
          "scattergl": [
           {
            "marker": {
             "colorbar": {
              "outlinewidth": 0,
              "ticks": ""
             }
            },
            "type": "scattergl"
           }
          ],
          "scattermapbox": [
           {
            "marker": {
             "colorbar": {
              "outlinewidth": 0,
              "ticks": ""
             }
            },
            "type": "scattermapbox"
           }
          ],
          "scatterpolar": [
           {
            "marker": {
             "colorbar": {
              "outlinewidth": 0,
              "ticks": ""
             }
            },
            "type": "scatterpolar"
           }
          ],
          "scatterpolargl": [
           {
            "marker": {
             "colorbar": {
              "outlinewidth": 0,
              "ticks": ""
             }
            },
            "type": "scatterpolargl"
           }
          ],
          "scatterternary": [
           {
            "marker": {
             "colorbar": {
              "outlinewidth": 0,
              "ticks": ""
             }
            },
            "type": "scatterternary"
           }
          ],
          "surface": [
           {
            "colorbar": {
             "outlinewidth": 0,
             "ticks": ""
            },
            "colorscale": [
             [
              0,
              "#0d0887"
             ],
             [
              0.1111111111111111,
              "#46039f"
             ],
             [
              0.2222222222222222,
              "#7201a8"
             ],
             [
              0.3333333333333333,
              "#9c179e"
             ],
             [
              0.4444444444444444,
              "#bd3786"
             ],
             [
              0.5555555555555556,
              "#d8576b"
             ],
             [
              0.6666666666666666,
              "#ed7953"
             ],
             [
              0.7777777777777778,
              "#fb9f3a"
             ],
             [
              0.8888888888888888,
              "#fdca26"
             ],
             [
              1,
              "#f0f921"
             ]
            ],
            "type": "surface"
           }
          ],
          "table": [
           {
            "cells": {
             "fill": {
              "color": "#EBF0F8"
             },
             "line": {
              "color": "white"
             }
            },
            "header": {
             "fill": {
              "color": "#C8D4E3"
             },
             "line": {
              "color": "white"
             }
            },
            "type": "table"
           }
          ]
         },
         "layout": {
          "annotationdefaults": {
           "arrowcolor": "#2a3f5f",
           "arrowhead": 0,
           "arrowwidth": 1
          },
          "autotypenumbers": "strict",
          "coloraxis": {
           "colorbar": {
            "outlinewidth": 0,
            "ticks": ""
           }
          },
          "colorscale": {
           "diverging": [
            [
             0,
             "#8e0152"
            ],
            [
             0.1,
             "#c51b7d"
            ],
            [
             0.2,
             "#de77ae"
            ],
            [
             0.3,
             "#f1b6da"
            ],
            [
             0.4,
             "#fde0ef"
            ],
            [
             0.5,
             "#f7f7f7"
            ],
            [
             0.6,
             "#e6f5d0"
            ],
            [
             0.7,
             "#b8e186"
            ],
            [
             0.8,
             "#7fbc41"
            ],
            [
             0.9,
             "#4d9221"
            ],
            [
             1,
             "#276419"
            ]
           ],
           "sequential": [
            [
             0,
             "#0d0887"
            ],
            [
             0.1111111111111111,
             "#46039f"
            ],
            [
             0.2222222222222222,
             "#7201a8"
            ],
            [
             0.3333333333333333,
             "#9c179e"
            ],
            [
             0.4444444444444444,
             "#bd3786"
            ],
            [
             0.5555555555555556,
             "#d8576b"
            ],
            [
             0.6666666666666666,
             "#ed7953"
            ],
            [
             0.7777777777777778,
             "#fb9f3a"
            ],
            [
             0.8888888888888888,
             "#fdca26"
            ],
            [
             1,
             "#f0f921"
            ]
           ],
           "sequentialminus": [
            [
             0,
             "#0d0887"
            ],
            [
             0.1111111111111111,
             "#46039f"
            ],
            [
             0.2222222222222222,
             "#7201a8"
            ],
            [
             0.3333333333333333,
             "#9c179e"
            ],
            [
             0.4444444444444444,
             "#bd3786"
            ],
            [
             0.5555555555555556,
             "#d8576b"
            ],
            [
             0.6666666666666666,
             "#ed7953"
            ],
            [
             0.7777777777777778,
             "#fb9f3a"
            ],
            [
             0.8888888888888888,
             "#fdca26"
            ],
            [
             1,
             "#f0f921"
            ]
           ]
          },
          "colorway": [
           "#636efa",
           "#EF553B",
           "#00cc96",
           "#ab63fa",
           "#FFA15A",
           "#19d3f3",
           "#FF6692",
           "#B6E880",
           "#FF97FF",
           "#FECB52"
          ],
          "font": {
           "color": "#2a3f5f"
          },
          "geo": {
           "bgcolor": "white",
           "lakecolor": "white",
           "landcolor": "#E5ECF6",
           "showlakes": true,
           "showland": true,
           "subunitcolor": "white"
          },
          "hoverlabel": {
           "align": "left"
          },
          "hovermode": "closest",
          "mapbox": {
           "style": "light"
          },
          "paper_bgcolor": "white",
          "plot_bgcolor": "#E5ECF6",
          "polar": {
           "angularaxis": {
            "gridcolor": "white",
            "linecolor": "white",
            "ticks": ""
           },
           "bgcolor": "#E5ECF6",
           "radialaxis": {
            "gridcolor": "white",
            "linecolor": "white",
            "ticks": ""
           }
          },
          "scene": {
           "xaxis": {
            "backgroundcolor": "#E5ECF6",
            "gridcolor": "white",
            "gridwidth": 2,
            "linecolor": "white",
            "showbackground": true,
            "ticks": "",
            "zerolinecolor": "white"
           },
           "yaxis": {
            "backgroundcolor": "#E5ECF6",
            "gridcolor": "white",
            "gridwidth": 2,
            "linecolor": "white",
            "showbackground": true,
            "ticks": "",
            "zerolinecolor": "white"
           },
           "zaxis": {
            "backgroundcolor": "#E5ECF6",
            "gridcolor": "white",
            "gridwidth": 2,
            "linecolor": "white",
            "showbackground": true,
            "ticks": "",
            "zerolinecolor": "white"
           }
          },
          "shapedefaults": {
           "line": {
            "color": "#2a3f5f"
           }
          },
          "ternary": {
           "aaxis": {
            "gridcolor": "white",
            "linecolor": "white",
            "ticks": ""
           },
           "baxis": {
            "gridcolor": "white",
            "linecolor": "white",
            "ticks": ""
           },
           "bgcolor": "#E5ECF6",
           "caxis": {
            "gridcolor": "white",
            "linecolor": "white",
            "ticks": ""
           }
          },
          "title": {
           "x": 0.05
          },
          "xaxis": {
           "automargin": true,
           "gridcolor": "white",
           "linecolor": "white",
           "ticks": "",
           "title": {
            "standoff": 15
           },
           "zerolinecolor": "white",
           "zerolinewidth": 2
          },
          "yaxis": {
           "automargin": true,
           "gridcolor": "white",
           "linecolor": "white",
           "ticks": "",
           "title": {
            "standoff": 15
           },
           "zerolinecolor": "white",
           "zerolinewidth": 2
          }
         }
        },
        "width": 900,
        "xaxis": {
         "gridcolor": "#1f292f",
         "nticks": 5,
         "rangeslider": {
          "visible": true
         }
        },
        "yaxis": {
         "gridcolor": "#1f292f"
        }
       }
      }
     },
     "metadata": {},
     "output_type": "display_data"
    }
   ],
   "source": [
    "cp=CandlePlot(df_plot)\n",
    "cp.show_plot()"
   ]
  }
 ],
 "metadata": {
  "kernelspec": {
   "display_name": "Python 3.9.2 ('project_env')",
   "language": "python",
   "name": "python3"
  },
  "language_info": {
   "codemirror_mode": {
    "name": "ipython",
    "version": 3
   },
   "file_extension": ".py",
   "mimetype": "text/x-python",
   "name": "python",
   "nbconvert_exporter": "python",
   "pygments_lexer": "ipython3",
   "version": "3.9.2"
  },
  "orig_nbformat": 4,
  "vscode": {
   "interpreter": {
    "hash": "8e342948d5225d9184b7c31d2c48beaf6b3c732127bb597a190a7b8656fdf36e"
   }
  }
 },
 "nbformat": 4,
 "nbformat_minor": 2
}
