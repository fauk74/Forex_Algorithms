{
 "cells": [
  {
   "cell_type": "code",
   "execution_count": 9,
   "metadata": {},
   "outputs": [],
   "source": [
    "import requests\n",
    "import pandas as pd\n",
    "import json\n",
    "from dateutil import parser"
   ]
  },
  {
   "cell_type": "code",
   "execution_count": 10,
   "metadata": {},
   "outputs": [],
   "source": []
  },
  {
   "cell_type": "code",
   "execution_count": 11,
   "metadata": {},
   "outputs": [],
   "source": [
    "\n",
    "session=requests.Session()"
   ]
  },
  {
   "cell_type": "code",
   "execution_count": 12,
   "metadata": {},
   "outputs": [],
   "source": [
    "session.headers.update()\n",
    "\n",
    "url=f\"{OANDA_URL}/instruments/EUR_USD/candles\"\n",
    "url_inst=f\"{OANDA_URL}/accounts/{ACCOUNT_ID}/instruments\"\n",
    "\n",
    "params=dict(count=10,granularity=\"H1\", price=\"MBA\")"
   ]
  },
  {
   "cell_type": "code",
   "execution_count": 13,
   "metadata": {},
   "outputs": [],
   "source": [
    "response=session.get(url_inst,params=None,data=None, headers=None)"
   ]
  },
  {
   "cell_type": "code",
   "execution_count": 14,
   "metadata": {},
   "outputs": [
    {
     "data": {
      "text/plain": [
       "200"
      ]
     },
     "execution_count": 14,
     "metadata": {},
     "output_type": "execute_result"
    }
   ],
   "source": [
    "response.status_code"
   ]
  },
  {
   "cell_type": "code",
   "execution_count": 15,
   "metadata": {},
   "outputs": [
    {
     "data": {
      "text/plain": [
       "dict_keys(['instruments', 'lastTransactionID'])"
      ]
     },
     "execution_count": 15,
     "metadata": {},
     "output_type": "execute_result"
    }
   ],
   "source": [
    "data=response.json()\n",
    "data.keys()"
   ]
  },
  {
   "cell_type": "code",
   "execution_count": 16,
   "metadata": {},
   "outputs": [
    {
     "data": {
      "text/plain": [
       "129"
      ]
     },
     "execution_count": 16,
     "metadata": {},
     "output_type": "execute_result"
    }
   ],
   "source": [
    "instruments_list=data['instruments']\n",
    "len(instruments_list)"
   ]
  },
  {
   "cell_type": "code",
   "execution_count": 17,
   "metadata": {},
   "outputs": [
    {
     "data": {
      "text/plain": [
       "dict_keys(['name', 'type', 'displayName', 'pipLocation', 'displayPrecision', 'tradeUnitsPrecision', 'minimumTradeSize', 'maximumTrailingStopDistance', 'minimumTrailingStopDistance', 'maximumPositionSize', 'maximumOrderUnits', 'marginRate', 'guaranteedStopLossOrderMode', 'tags', 'financing'])"
      ]
     },
     "execution_count": 17,
     "metadata": {},
     "output_type": "execute_result"
    }
   ],
   "source": [
    "instruments_list[0].keys()"
   ]
  },
  {
   "cell_type": "code",
   "execution_count": 18,
   "metadata": {},
   "outputs": [],
   "source": [
    "key_i=['name', 'type', 'displayName', 'pipLocation', 'displayPrecision', 'tradeUnitsPrecision','marginRate']"
   ]
  },
  {
   "cell_type": "code",
   "execution_count": 19,
   "metadata": {},
   "outputs": [],
   "source": [
    "#more convenient to use a dictionary , I put the name and I have the info rather than to loop into a list\n",
    "instruments_dict={}\n",
    "\n",
    "for i in instruments_list:\n",
    "    key=i['name']\n",
    "    instruments_dict[key]={k: i[k] for k in key_i}"
   ]
  },
  {
   "cell_type": "code",
   "execution_count": 20,
   "metadata": {},
   "outputs": [
    {
     "data": {
      "text/plain": [
       "{'name': 'USD_CAD',\n",
       " 'type': 'CURRENCY',\n",
       " 'displayName': 'USD/CAD',\n",
       " 'pipLocation': -4,\n",
       " 'displayPrecision': 5,\n",
       " 'tradeUnitsPrecision': 0,\n",
       " 'marginRate': '0.0333'}"
      ]
     },
     "execution_count": 20,
     "metadata": {},
     "output_type": "execute_result"
    }
   ],
   "source": [
    "instruments_dict['USD_CAD']"
   ]
  },
  {
   "cell_type": "code",
   "execution_count": 21,
   "metadata": {},
   "outputs": [],
   "source": [
    "with open(\"D:/instruments.json\",\"w\") as f:\n",
    "    f.write(json.dumps(instruments_dict, indent=2))\n"
   ]
  },
  {
   "cell_type": "code",
   "execution_count": 22,
   "metadata": {},
   "outputs": [],
   "source": [
    "def fetch_candles (pair_name, count=10, granularity=\"H1\"):\n",
    "    url=f\"{OANDA_URL}/instruments/EUR_USD/candles\"\n",
    "    params=dict(count=count,granularity=granularity, price=\"MBA\")\n",
    "    \n",
    "    response=session.get(url, params=params, data=None, headers=None)\n",
    "    data=response.json()\n",
    "    if response.status_code==200:\n",
    "        if 'candles' not in data:\n",
    "            data=[]\n",
    "        else:\n",
    "            data=data['candles']\n",
    "            return response.status_code, data\n"
   ]
  },
  {
   "cell_type": "code",
   "execution_count": 23,
   "metadata": {},
   "outputs": [],
   "source": [
    "\n",
    "\n",
    "\n",
    "code, data=fetch_candles(\"EUR_USD\", count=20)"
   ]
  },
  {
   "cell_type": "code",
   "execution_count": 24,
   "metadata": {},
   "outputs": [
    {
     "data": {
      "text/plain": [
       "[{'complete': True,\n",
       "  'volume': 3413,\n",
       "  'time': '2022-09-16T01:00:00.000000000Z',\n",
       "  'bid': {'o': '1.00053', 'h': '1.00116', 'l': '0.99967', 'c': '0.99974'},\n",
       "  'mid': {'o': '1.00060', 'h': '1.00124', 'l': '0.99975', 'c': '0.99982'},\n",
       "  'ask': {'o': '1.00068', 'h': '1.00132', 'l': '0.99983', 'c': '0.99989'}},\n",
       " {'complete': True,\n",
       "  'volume': 2754,\n",
       "  'time': '2022-09-16T02:00:00.000000000Z',\n",
       "  'bid': {'o': '0.99970', 'h': '0.99996', 'l': '0.99902', 'c': '0.99938'},\n",
       "  'mid': {'o': '0.99978', 'h': '1.00004', 'l': '0.99910', 'c': '0.99945'},\n",
       "  'ask': {'o': '0.99986', 'h': '1.00012', 'l': '0.99918', 'c': '0.99952'}},\n",
       " {'complete': True,\n",
       "  'volume': 2337,\n",
       "  'time': '2022-09-16T03:00:00.000000000Z',\n",
       "  'bid': {'o': '0.99937', 'h': '1.00024', 'l': '0.99923', 'c': '0.99967'},\n",
       "  'mid': {'o': '0.99945', 'h': '1.00031', 'l': '0.99930', 'c': '0.99974'},\n",
       "  'ask': {'o': '0.99953', 'h': '1.00038', 'l': '0.99938', 'c': '0.99982'}},\n",
       " {'complete': True,\n",
       "  'volume': 1607,\n",
       "  'time': '2022-09-16T04:00:00.000000000Z',\n",
       "  'bid': {'o': '0.99971', 'h': '1.00014', 'l': '0.99948', 'c': '0.99951'},\n",
       "  'mid': {'o': '0.99978', 'h': '1.00022', 'l': '0.99955', 'c': '0.99958'},\n",
       "  'ask': {'o': '0.99986', 'h': '1.00029', 'l': '0.99962', 'c': '0.99965'}},\n",
       " {'complete': True,\n",
       "  'volume': 2421,\n",
       "  'time': '2022-09-16T05:00:00.000000000Z',\n",
       "  'bid': {'o': '0.99950', 'h': '0.99951', 'l': '0.99802', 'c': '0.99816'},\n",
       "  'mid': {'o': '0.99956', 'h': '0.99959', 'l': '0.99810', 'c': '0.99824'},\n",
       "  'ask': {'o': '0.99963', 'h': '0.99967', 'l': '0.99818', 'c': '0.99831'}},\n",
       " {'complete': True,\n",
       "  'volume': 6423,\n",
       "  'time': '2022-09-16T06:00:00.000000000Z',\n",
       "  'bid': {'o': '0.99815', 'h': '0.99947', 'l': '0.99753', 'c': '0.99917'},\n",
       "  'mid': {'o': '0.99823', 'h': '0.99955', 'l': '0.99762', 'c': '0.99925'},\n",
       "  'ask': {'o': '0.99831', 'h': '0.99963', 'l': '0.99771', 'c': '0.99933'}},\n",
       " {'complete': True,\n",
       "  'volume': 8304,\n",
       "  'time': '2022-09-16T07:00:00.000000000Z',\n",
       "  'bid': {'o': '0.99919', 'h': '0.99979', 'l': '0.99444', 'c': '0.99553'},\n",
       "  'mid': {'o': '0.99927', 'h': '0.99987', 'l': '0.99452', 'c': '0.99561'},\n",
       "  'ask': {'o': '0.99935', 'h': '0.99995', 'l': '0.99459', 'c': '0.99569'}},\n",
       " {'complete': True,\n",
       "  'volume': 6181,\n",
       "  'time': '2022-09-16T08:00:00.000000000Z',\n",
       "  'bid': {'o': '0.99558', 'h': '0.99686', 'l': '0.99484', 'c': '0.99547'},\n",
       "  'mid': {'o': '0.99566', 'h': '0.99693', 'l': '0.99491', 'c': '0.99554'},\n",
       "  'ask': {'o': '0.99573', 'h': '0.99700', 'l': '0.99498', 'c': '0.99561'}},\n",
       " {'complete': True,\n",
       "  'volume': 4496,\n",
       "  'time': '2022-09-16T09:00:00.000000000Z',\n",
       "  'bid': {'o': '0.99545', 'h': '0.99869', 'l': '0.99545', 'c': '0.99672'},\n",
       "  'mid': {'o': '0.99552', 'h': '0.99876', 'l': '0.99552', 'c': '0.99678'},\n",
       "  'ask': {'o': '0.99558', 'h': '0.99882', 'l': '0.99558', 'c': '0.99685'}},\n",
       " {'complete': True,\n",
       "  'volume': 3996,\n",
       "  'time': '2022-09-16T10:00:00.000000000Z',\n",
       "  'bid': {'o': '0.99675', 'h': '0.99886', 'l': '0.99644', 'c': '0.99846'},\n",
       "  'mid': {'o': '0.99682', 'h': '0.99892', 'l': '0.99652', 'c': '0.99854'},\n",
       "  'ask': {'o': '0.99688', 'h': '0.99900', 'l': '0.99659', 'c': '0.99861'}},\n",
       " {'complete': True,\n",
       "  'volume': 4722,\n",
       "  'time': '2022-09-16T11:00:00.000000000Z',\n",
       "  'bid': {'o': '0.99844', 'h': '0.99866', 'l': '0.99672', 'c': '0.99687'},\n",
       "  'mid': {'o': '0.99850', 'h': '0.99872', 'l': '0.99678', 'c': '0.99694'},\n",
       "  'ask': {'o': '0.99857', 'h': '0.99880', 'l': '0.99685', 'c': '0.99701'}},\n",
       " {'complete': True,\n",
       "  'volume': 6391,\n",
       "  'time': '2022-09-16T12:00:00.000000000Z',\n",
       "  'bid': {'o': '0.99690', 'h': '0.99700', 'l': '0.99526', 'c': '0.99547'},\n",
       "  'mid': {'o': '0.99696', 'h': '0.99707', 'l': '0.99533', 'c': '0.99554'},\n",
       "  'ask': {'o': '0.99703', 'h': '0.99714', 'l': '0.99539', 'c': '0.99561'}},\n",
       " {'complete': True,\n",
       "  'volume': 8351,\n",
       "  'time': '2022-09-16T13:00:00.000000000Z',\n",
       "  'bid': {'o': '0.99549', 'h': '0.99761', 'l': '0.99530', 'c': '0.99727'},\n",
       "  'mid': {'o': '0.99556', 'h': '0.99768', 'l': '0.99537', 'c': '0.99741'},\n",
       "  'ask': {'o': '0.99563', 'h': '0.99775', 'l': '0.99544', 'c': '0.99755'}},\n",
       " {'complete': True,\n",
       "  'volume': 12573,\n",
       "  'time': '2022-09-16T14:00:00.000000000Z',\n",
       "  'bid': {'o': '0.99736', 'h': '1.00358', 'l': '0.99701', 'c': '1.00297'},\n",
       "  'mid': {'o': '0.99748', 'h': '1.00364', 'l': '0.99714', 'c': '1.00304'},\n",
       "  'ask': {'o': '0.99760', 'h': '1.00371', 'l': '0.99727', 'c': '1.00310'}},\n",
       " {'complete': True,\n",
       "  'volume': 9495,\n",
       "  'time': '2022-09-16T15:00:00.000000000Z',\n",
       "  'bid': {'o': '1.00294', 'h': '1.00315', 'l': '0.99998', 'c': '1.00115'},\n",
       "  'mid': {'o': '1.00300', 'h': '1.00324', 'l': '1.00005', 'c': '1.00122'},\n",
       "  'ask': {'o': '1.00307', 'h': '1.00333', 'l': '1.00012', 'c': '1.00129'}},\n",
       " {'complete': True,\n",
       "  'volume': 4251,\n",
       "  'time': '2022-09-16T16:00:00.000000000Z',\n",
       "  'bid': {'o': '1.00114', 'h': '1.00191', 'l': '1.00003', 'c': '1.00063'},\n",
       "  'mid': {'o': '1.00121', 'h': '1.00198', 'l': '1.00010', 'c': '1.00070'},\n",
       "  'ask': {'o': '1.00128', 'h': '1.00204', 'l': '1.00018', 'c': '1.00077'}},\n",
       " {'complete': True,\n",
       "  'volume': 3335,\n",
       "  'time': '2022-09-16T17:00:00.000000000Z',\n",
       "  'bid': {'o': '1.00065', 'h': '1.00104', 'l': '0.99925', 'c': '0.99929'},\n",
       "  'mid': {'o': '1.00072', 'h': '1.00111', 'l': '0.99932', 'c': '0.99936'},\n",
       "  'ask': {'o': '1.00079', 'h': '1.00118', 'l': '0.99938', 'c': '0.99942'}},\n",
       " {'complete': True,\n",
       "  'volume': 3252,\n",
       "  'time': '2022-09-16T18:00:00.000000000Z',\n",
       "  'bid': {'o': '0.99930', 'h': '1.00071', 'l': '0.99925', 'c': '1.00021'},\n",
       "  'mid': {'o': '0.99936', 'h': '1.00079', 'l': '0.99932', 'c': '1.00028'},\n",
       "  'ask': {'o': '0.99943', 'h': '1.00087', 'l': '0.99938', 'c': '1.00034'}},\n",
       " {'complete': True,\n",
       "  'volume': 4778,\n",
       "  'time': '2022-09-16T19:00:00.000000000Z',\n",
       "  'bid': {'o': '1.00018', 'h': '1.00137', 'l': '1.00016', 'c': '1.00122'},\n",
       "  'mid': {'o': '1.00024', 'h': '1.00144', 'l': '1.00024', 'c': '1.00129'},\n",
       "  'ask': {'o': '1.00031', 'h': '1.00152', 'l': '1.00030', 'c': '1.00136'}},\n",
       " {'complete': True,\n",
       "  'volume': 1545,\n",
       "  'time': '2022-09-16T20:00:00.000000000Z',\n",
       "  'bid': {'o': '1.00119', 'h': '1.00143', 'l': '1.00075', 'c': '1.00122'},\n",
       "  'mid': {'o': '1.00126', 'h': '1.00174', 'l': '1.00084', 'c': '1.00170'},\n",
       "  'ask': {'o': '1.00133', 'h': '1.00223', 'l': '1.00092', 'c': '1.00218'}}]"
      ]
     },
     "execution_count": 24,
     "metadata": {},
     "output_type": "execute_result"
    }
   ],
   "source": [
    "data"
   ]
  },
  {
   "cell_type": "code",
   "execution_count": 25,
   "metadata": {},
   "outputs": [
    {
     "data": {
      "text/plain": [
       "200"
      ]
     },
     "execution_count": 25,
     "metadata": {},
     "output_type": "execute_result"
    }
   ],
   "source": [
    "code"
   ]
  },
  {
   "cell_type": "code",
   "execution_count": 26,
   "metadata": {},
   "outputs": [],
   "source": [
    "#time \n",
    "prices=['mid','bid','ask']\n",
    "ohlc=['o','h','l','c']\n"
   ]
  },
  {
   "cell_type": "code",
   "execution_count": 43,
   "metadata": {},
   "outputs": [],
   "source": [
    "\n",
    "\n",
    "def get_candles_df(data):\n",
    "    if len(data)==0:\n",
    "        return pd.DataFrame()\n",
    "\n",
    "    prices=['mid','bid','ask']\n",
    "    ohlc=list('ohlc')\n",
    "    final_data=[]\n",
    "\n",
    "    for candle in data:\n",
    "        if candle['complete']==False:\n",
    "            continue\n",
    "        new_dict={}\n",
    "        new_dict['volume']=candle['volume']\n",
    "        new_dict['time']=parser.parse(candle['time'])\n",
    "        for p in prices :\n",
    "            for o in ohlc:\n",
    "                new_dict[f\"{p}_{o}\"]=float(candle[p][o])\n",
    "        final_data.append(new_dict)\n",
    "    final_data    \n",
    "    df=pd.DataFrame.from_dict(final_data)\n",
    "    return df\n",
    "\n",
    "def create_data_file(pair_name, count=10, granularity=\"H1\", path=\"../data/\"):\n",
    "    code, data= fetch_candles(pair_name, count, granularity)\n",
    "    if code !=200:\n",
    "        print(\"Failed\", pair_name, data)\n",
    "        return\n",
    "    if len(data)==0:\n",
    "        print(\"No candles\", pair_name)\n",
    "    candles_df=get_candles_df(data)\n",
    "    candles_df.to_pickle(f\"{path}{pair_name}_{granularity}.pkl\")    \n",
    "    print(f\"{pair_name} {granularity} {candles_df.shape[0]} {candles_df.time.min()} {candles_df.time.max()}\")    "
   ]
  },
  {
   "cell_type": "code",
   "execution_count": 34,
   "metadata": {},
   "outputs": [],
   "source": [
    "\n",
    "code, data= fetch_candles(\"EUR_USD\", count=10, granularity=\"H4\")"
   ]
  },
  {
   "cell_type": "code",
   "execution_count": 44,
   "metadata": {},
   "outputs": [
    {
     "name": "stdout",
     "output_type": "stream",
     "text": [
      "EUR_USD H4 10 2022-09-15 05:00:00+00:00 2022-09-16 17:00:00+00:00\n"
     ]
    }
   ],
   "source": [
    "candles_df=get_candles_df(data)\n",
    "create_data_file(\"EUR_USD\", count=10, granularity=\"H4\", path=\"D:/ML Materials/Forex Course/data/\")"
   ]
  },
  {
   "cell_type": "code",
   "execution_count": 36,
   "metadata": {},
   "outputs": [
    {
     "data": {
      "text/html": [
       "<div>\n",
       "<style scoped>\n",
       "    .dataframe tbody tr th:only-of-type {\n",
       "        vertical-align: middle;\n",
       "    }\n",
       "\n",
       "    .dataframe tbody tr th {\n",
       "        vertical-align: top;\n",
       "    }\n",
       "\n",
       "    .dataframe thead th {\n",
       "        text-align: right;\n",
       "    }\n",
       "</style>\n",
       "<table border=\"1\" class=\"dataframe\">\n",
       "  <thead>\n",
       "    <tr style=\"text-align: right;\">\n",
       "      <th></th>\n",
       "      <th>volume</th>\n",
       "      <th>time</th>\n",
       "      <th>mid_o</th>\n",
       "      <th>mid_h</th>\n",
       "      <th>mid_l</th>\n",
       "      <th>mid_c</th>\n",
       "      <th>bid_o</th>\n",
       "      <th>bid_h</th>\n",
       "      <th>bid_l</th>\n",
       "      <th>bid_c</th>\n",
       "      <th>ask_o</th>\n",
       "      <th>ask_h</th>\n",
       "      <th>ask_l</th>\n",
       "      <th>ask_c</th>\n",
       "    </tr>\n",
       "  </thead>\n",
       "  <tbody>\n",
       "    <tr>\n",
       "      <th>0</th>\n",
       "      <td>16947</td>\n",
       "      <td>2022-09-15 05:00:00+00:00</td>\n",
       "      <td>0.99683</td>\n",
       "      <td>0.99955</td>\n",
       "      <td>0.99558</td>\n",
       "      <td>0.99924</td>\n",
       "      <td>0.99675</td>\n",
       "      <td>0.99948</td>\n",
       "      <td>0.99551</td>\n",
       "      <td>0.99916</td>\n",
       "      <td>0.99691</td>\n",
       "      <td>0.99962</td>\n",
       "      <td>0.99565</td>\n",
       "      <td>0.99932</td>\n",
       "    </tr>\n",
       "    <tr>\n",
       "      <th>1</th>\n",
       "      <td>23529</td>\n",
       "      <td>2022-09-15 09:00:00+00:00</td>\n",
       "      <td>0.99923</td>\n",
       "      <td>1.00178</td>\n",
       "      <td>0.99693</td>\n",
       "      <td>1.00078</td>\n",
       "      <td>0.99916</td>\n",
       "      <td>1.00171</td>\n",
       "      <td>0.99685</td>\n",
       "      <td>1.00071</td>\n",
       "      <td>0.99930</td>\n",
       "      <td>1.00187</td>\n",
       "      <td>0.99701</td>\n",
       "      <td>1.00084</td>\n",
       "    </tr>\n",
       "    <tr>\n",
       "      <th>2</th>\n",
       "      <td>26454</td>\n",
       "      <td>2022-09-15 13:00:00+00:00</td>\n",
       "      <td>1.00078</td>\n",
       "      <td>1.00138</td>\n",
       "      <td>0.99815</td>\n",
       "      <td>1.00057</td>\n",
       "      <td>1.00072</td>\n",
       "      <td>1.00130</td>\n",
       "      <td>0.99807</td>\n",
       "      <td>1.00050</td>\n",
       "      <td>1.00085</td>\n",
       "      <td>1.00145</td>\n",
       "      <td>0.99822</td>\n",
       "      <td>1.00064</td>\n",
       "    </tr>\n",
       "    <tr>\n",
       "      <th>3</th>\n",
       "      <td>11738</td>\n",
       "      <td>2022-09-15 17:00:00+00:00</td>\n",
       "      <td>1.00058</td>\n",
       "      <td>1.00154</td>\n",
       "      <td>0.99879</td>\n",
       "      <td>0.99972</td>\n",
       "      <td>1.00051</td>\n",
       "      <td>1.00147</td>\n",
       "      <td>0.99871</td>\n",
       "      <td>0.99960</td>\n",
       "      <td>1.00065</td>\n",
       "      <td>1.00162</td>\n",
       "      <td>0.99887</td>\n",
       "      <td>0.99985</td>\n",
       "    </tr>\n",
       "    <tr>\n",
       "      <th>4</th>\n",
       "      <td>7086</td>\n",
       "      <td>2022-09-15 21:00:00+00:00</td>\n",
       "      <td>1.00010</td>\n",
       "      <td>1.00108</td>\n",
       "      <td>0.99862</td>\n",
       "      <td>1.00058</td>\n",
       "      <td>0.99960</td>\n",
       "      <td>1.00100</td>\n",
       "      <td>0.99853</td>\n",
       "      <td>1.00051</td>\n",
       "      <td>1.00060</td>\n",
       "      <td>1.00115</td>\n",
       "      <td>0.99870</td>\n",
       "      <td>1.00066</td>\n",
       "    </tr>\n",
       "    <tr>\n",
       "      <th>5</th>\n",
       "      <td>10111</td>\n",
       "      <td>2022-09-16 01:00:00+00:00</td>\n",
       "      <td>1.00060</td>\n",
       "      <td>1.00124</td>\n",
       "      <td>0.99910</td>\n",
       "      <td>0.99958</td>\n",
       "      <td>1.00053</td>\n",
       "      <td>1.00116</td>\n",
       "      <td>0.99902</td>\n",
       "      <td>0.99951</td>\n",
       "      <td>1.00068</td>\n",
       "      <td>1.00132</td>\n",
       "      <td>0.99918</td>\n",
       "      <td>0.99965</td>\n",
       "    </tr>\n",
       "    <tr>\n",
       "      <th>6</th>\n",
       "      <td>23329</td>\n",
       "      <td>2022-09-16 05:00:00+00:00</td>\n",
       "      <td>0.99956</td>\n",
       "      <td>0.99987</td>\n",
       "      <td>0.99452</td>\n",
       "      <td>0.99554</td>\n",
       "      <td>0.99950</td>\n",
       "      <td>0.99979</td>\n",
       "      <td>0.99444</td>\n",
       "      <td>0.99547</td>\n",
       "      <td>0.99963</td>\n",
       "      <td>0.99995</td>\n",
       "      <td>0.99459</td>\n",
       "      <td>0.99561</td>\n",
       "    </tr>\n",
       "    <tr>\n",
       "      <th>7</th>\n",
       "      <td>19605</td>\n",
       "      <td>2022-09-16 09:00:00+00:00</td>\n",
       "      <td>0.99552</td>\n",
       "      <td>0.99892</td>\n",
       "      <td>0.99533</td>\n",
       "      <td>0.99554</td>\n",
       "      <td>0.99545</td>\n",
       "      <td>0.99886</td>\n",
       "      <td>0.99526</td>\n",
       "      <td>0.99547</td>\n",
       "      <td>0.99558</td>\n",
       "      <td>0.99900</td>\n",
       "      <td>0.99539</td>\n",
       "      <td>0.99561</td>\n",
       "    </tr>\n",
       "    <tr>\n",
       "      <th>8</th>\n",
       "      <td>34670</td>\n",
       "      <td>2022-09-16 13:00:00+00:00</td>\n",
       "      <td>0.99556</td>\n",
       "      <td>1.00364</td>\n",
       "      <td>0.99537</td>\n",
       "      <td>1.00070</td>\n",
       "      <td>0.99549</td>\n",
       "      <td>1.00358</td>\n",
       "      <td>0.99530</td>\n",
       "      <td>1.00063</td>\n",
       "      <td>0.99563</td>\n",
       "      <td>1.00371</td>\n",
       "      <td>0.99544</td>\n",
       "      <td>1.00077</td>\n",
       "    </tr>\n",
       "    <tr>\n",
       "      <th>9</th>\n",
       "      <td>12910</td>\n",
       "      <td>2022-09-16 17:00:00+00:00</td>\n",
       "      <td>1.00072</td>\n",
       "      <td>1.00174</td>\n",
       "      <td>0.99932</td>\n",
       "      <td>1.00170</td>\n",
       "      <td>1.00065</td>\n",
       "      <td>1.00143</td>\n",
       "      <td>0.99925</td>\n",
       "      <td>1.00122</td>\n",
       "      <td>1.00079</td>\n",
       "      <td>1.00223</td>\n",
       "      <td>0.99938</td>\n",
       "      <td>1.00218</td>\n",
       "    </tr>\n",
       "  </tbody>\n",
       "</table>\n",
       "</div>"
      ],
      "text/plain": [
       "   volume                      time    mid_o    mid_h    mid_l    mid_c  \\\n",
       "0   16947 2022-09-15 05:00:00+00:00  0.99683  0.99955  0.99558  0.99924   \n",
       "1   23529 2022-09-15 09:00:00+00:00  0.99923  1.00178  0.99693  1.00078   \n",
       "2   26454 2022-09-15 13:00:00+00:00  1.00078  1.00138  0.99815  1.00057   \n",
       "3   11738 2022-09-15 17:00:00+00:00  1.00058  1.00154  0.99879  0.99972   \n",
       "4    7086 2022-09-15 21:00:00+00:00  1.00010  1.00108  0.99862  1.00058   \n",
       "5   10111 2022-09-16 01:00:00+00:00  1.00060  1.00124  0.99910  0.99958   \n",
       "6   23329 2022-09-16 05:00:00+00:00  0.99956  0.99987  0.99452  0.99554   \n",
       "7   19605 2022-09-16 09:00:00+00:00  0.99552  0.99892  0.99533  0.99554   \n",
       "8   34670 2022-09-16 13:00:00+00:00  0.99556  1.00364  0.99537  1.00070   \n",
       "9   12910 2022-09-16 17:00:00+00:00  1.00072  1.00174  0.99932  1.00170   \n",
       "\n",
       "     bid_o    bid_h    bid_l    bid_c    ask_o    ask_h    ask_l    ask_c  \n",
       "0  0.99675  0.99948  0.99551  0.99916  0.99691  0.99962  0.99565  0.99932  \n",
       "1  0.99916  1.00171  0.99685  1.00071  0.99930  1.00187  0.99701  1.00084  \n",
       "2  1.00072  1.00130  0.99807  1.00050  1.00085  1.00145  0.99822  1.00064  \n",
       "3  1.00051  1.00147  0.99871  0.99960  1.00065  1.00162  0.99887  0.99985  \n",
       "4  0.99960  1.00100  0.99853  1.00051  1.00060  1.00115  0.99870  1.00066  \n",
       "5  1.00053  1.00116  0.99902  0.99951  1.00068  1.00132  0.99918  0.99965  \n",
       "6  0.99950  0.99979  0.99444  0.99547  0.99963  0.99995  0.99459  0.99561  \n",
       "7  0.99545  0.99886  0.99526  0.99547  0.99558  0.99900  0.99539  0.99561  \n",
       "8  0.99549  1.00358  0.99530  1.00063  0.99563  1.00371  0.99544  1.00077  \n",
       "9  1.00065  1.00143  0.99925  1.00122  1.00079  1.00223  0.99938  1.00218  "
      ]
     },
     "execution_count": 36,
     "metadata": {},
     "output_type": "execute_result"
    }
   ],
   "source": [
    "candles_df"
   ]
  },
  {
   "cell_type": "code",
   "execution_count": 37,
   "metadata": {},
   "outputs": [
    {
     "name": "stdout",
     "output_type": "stream",
     "text": [
      "<class 'pandas.core.frame.DataFrame'>\n",
      "RangeIndex: 10 entries, 0 to 9\n",
      "Data columns (total 14 columns):\n",
      " #   Column  Non-Null Count  Dtype                  \n",
      "---  ------  --------------  -----                  \n",
      " 0   volume  10 non-null     int64                  \n",
      " 1   time    10 non-null     datetime64[ns, tzutc()]\n",
      " 2   mid_o   10 non-null     float64                \n",
      " 3   mid_h   10 non-null     float64                \n",
      " 4   mid_l   10 non-null     float64                \n",
      " 5   mid_c   10 non-null     float64                \n",
      " 6   bid_o   10 non-null     float64                \n",
      " 7   bid_h   10 non-null     float64                \n",
      " 8   bid_l   10 non-null     float64                \n",
      " 9   bid_c   10 non-null     float64                \n",
      " 10  ask_o   10 non-null     float64                \n",
      " 11  ask_h   10 non-null     float64                \n",
      " 12  ask_l   10 non-null     float64                \n",
      " 13  ask_c   10 non-null     float64                \n",
      "dtypes: datetime64[ns, tzutc()](1), float64(12), int64(1)\n",
      "memory usage: 1.2 KB\n"
     ]
    }
   ],
   "source": [
    "candles_df.info()"
   ]
  },
  {
   "cell_type": "code",
   "execution_count": 45,
   "metadata": {},
   "outputs": [],
   "source": [
    "our_curr=['EUR','USD','GBP','JPY','CHF','NZD','CAD','AUD']"
   ]
  },
  {
   "cell_type": "code",
   "execution_count": 46,
   "metadata": {},
   "outputs": [
    {
     "data": {
      "text/plain": [
       "dict_keys(['XCU_USD', 'WHEAT_USD', 'NZD_SGD', 'SPX500_USD', 'USD_NOK', 'UK100_GBP', 'AUD_NZD', 'XAG_USD', 'EUR_HUF', 'XAG_EUR', 'LTC_USD', 'XAG_GBP', 'NZD_USD', 'USD_CNH', 'CHF_ZAR', 'GBP_NZD', 'USB10Y_USD', 'HK33_HKD', 'USB05Y_USD', 'USB02Y_USD', 'DE10YB_EUR', 'US2000_USD', 'USB30Y_USD', 'USD_CAD', 'ZAR_JPY', 'XAG_JPY', 'ETH_USD', 'SGD_JPY', 'GBP_ZAR', 'USD_JPY', 'EUR_TRY', 'BTC_USD', 'EUR_CZK', 'EUR_JPY', 'TWIX_USD', 'AUD_SGD', 'XAG_NZD', 'WTICO_USD', 'XAG_AUD', 'EUR_NZD', 'GBP_HKD', 'CHF_JPY', 'XAU_AUD', 'EUR_HKD', 'XAU_HKD', 'XAU_JPY', 'USD_THB', 'GBP_CHF', 'CAD_JPY', 'NZD_CHF', 'ESPIX_EUR', 'AUD_HKD', 'XAG_HKD', 'USD_CHF', 'XAG_CHF', 'BCH_USD', 'AUD_USD', 'GBP_JPY', 'USD_TRY', 'NAS100_USD', 'TRY_JPY', 'USD_SGD', 'EUR_SEK', 'HKD_JPY', 'AUD_CHF', 'XAU_XAG', 'SGD_CHF', 'SOYBN_USD', 'CORN_USD', 'USD_PLN', 'GBP_AUD', 'XAU_SGD', 'AUD_JPY', 'EUR_ZAR', 'CHINAH_HKD', 'SG30_SGD', 'EUR_USD', 'EUR_CAD', 'USD_HUF', 'NL25_EUR', 'EUR_CHF', 'UK10YB_GBP', 'NZD_CAD', 'EUR_SGD', 'USD_INR', 'XAU_NZD', 'XAU_GBP', 'NZD_JPY', 'CHF_HKD', 'AU200_AUD', 'USD_DKK', 'EUR_AUD', 'XAU_CAD', 'XAU_CHF', 'JP225_USD', 'XAG_CAD', 'USD_ZAR', 'USD_CZK', 'CN50_USD', 'EU50_EUR', 'XAG_SGD', 'FR40_EUR', 'GBP_SGD', 'USD_SEK', 'USD_MXN', 'GBP_USD', 'EUR_DKK', 'NATGAS_USD', 'CAD_CHF', 'EUR_GBP', 'CAD_HKD', 'CH20_CHF', 'BCO_USD', 'EUR_NOK', 'XAU_USD', 'XPD_USD', 'XPT_USD', 'GBP_CAD', 'XAU_EUR', 'DE30_EUR', 'NZD_HKD', 'GBP_PLN', 'US30_USD', 'JP225Y_JPY', 'EUR_PLN', 'SUGAR_USD', 'AUD_CAD', 'USD_HKD', 'CAD_SGD'])"
      ]
     },
     "execution_count": 46,
     "metadata": {},
     "output_type": "execute_result"
    }
   ],
   "source": [
    "instruments_dict.keys()"
   ]
  },
  {
   "cell_type": "code",
   "execution_count": 47,
   "metadata": {},
   "outputs": [
    {
     "data": {
      "text/plain": [
       "129"
      ]
     },
     "execution_count": 47,
     "metadata": {},
     "output_type": "execute_result"
    }
   ],
   "source": [
    "len(instruments_dict.keys())"
   ]
  },
  {
   "cell_type": "code",
   "execution_count": 48,
   "metadata": {},
   "outputs": [
    {
     "name": "stdout",
     "output_type": "stream",
     "text": [
      "EUR_USD H1 4001 2022-01-27 00:00:00+00:00 2022-09-16 20:00:00+00:00\n",
      "EUR_USD H4 4001 2020-02-25 02:00:00+00:00 2022-09-16 17:00:00+00:00\n",
      "EUR_GBP H1 4001 2022-01-27 00:00:00+00:00 2022-09-16 20:00:00+00:00\n",
      "EUR_GBP H4 4001 2020-02-25 02:00:00+00:00 2022-09-16 17:00:00+00:00\n",
      "EUR_JPY H1 4001 2022-01-27 00:00:00+00:00 2022-09-16 20:00:00+00:00\n",
      "EUR_JPY H4 4001 2020-02-25 02:00:00+00:00 2022-09-16 17:00:00+00:00\n",
      "EUR_CHF H1 4001 2022-01-27 00:00:00+00:00 2022-09-16 20:00:00+00:00\n",
      "EUR_CHF H4 4001 2020-02-25 02:00:00+00:00 2022-09-16 17:00:00+00:00\n",
      "EUR_NZD H1 4001 2022-01-27 00:00:00+00:00 2022-09-16 20:00:00+00:00\n",
      "EUR_NZD H4 4001 2020-02-25 02:00:00+00:00 2022-09-16 17:00:00+00:00\n",
      "EUR_CAD H1 4001 2022-01-27 00:00:00+00:00 2022-09-16 20:00:00+00:00\n",
      "EUR_CAD H4 4001 2020-02-25 02:00:00+00:00 2022-09-16 17:00:00+00:00\n",
      "EUR_AUD H1 4001 2022-01-27 00:00:00+00:00 2022-09-16 20:00:00+00:00\n",
      "EUR_AUD H4 4001 2020-02-25 02:00:00+00:00 2022-09-16 17:00:00+00:00\n",
      "USD_JPY H1 4001 2022-01-27 00:00:00+00:00 2022-09-16 20:00:00+00:00\n",
      "USD_JPY H4 4001 2020-02-25 02:00:00+00:00 2022-09-16 17:00:00+00:00\n",
      "USD_CHF H1 4001 2022-01-27 00:00:00+00:00 2022-09-16 20:00:00+00:00\n",
      "USD_CHF H4 4001 2020-02-25 02:00:00+00:00 2022-09-16 17:00:00+00:00\n",
      "USD_CAD H1 4001 2022-01-27 00:00:00+00:00 2022-09-16 20:00:00+00:00\n",
      "USD_CAD H4 4001 2020-02-25 02:00:00+00:00 2022-09-16 17:00:00+00:00\n",
      "GBP_USD H1 4001 2022-01-27 00:00:00+00:00 2022-09-16 20:00:00+00:00\n",
      "GBP_USD H4 4001 2020-02-25 02:00:00+00:00 2022-09-16 17:00:00+00:00\n",
      "GBP_JPY H1 4001 2022-01-27 00:00:00+00:00 2022-09-16 20:00:00+00:00\n",
      "GBP_JPY H4 4001 2020-02-25 02:00:00+00:00 2022-09-16 17:00:00+00:00\n",
      "GBP_CHF H1 4001 2022-01-27 00:00:00+00:00 2022-09-16 20:00:00+00:00\n",
      "GBP_CHF H4 4001 2020-02-25 02:00:00+00:00 2022-09-16 17:00:00+00:00\n",
      "GBP_NZD H1 4001 2022-01-27 00:00:00+00:00 2022-09-16 20:00:00+00:00\n",
      "GBP_NZD H4 4001 2020-02-25 02:00:00+00:00 2022-09-16 17:00:00+00:00\n",
      "GBP_CAD H1 4001 2022-01-27 00:00:00+00:00 2022-09-16 20:00:00+00:00\n",
      "GBP_CAD H4 4001 2020-02-25 02:00:00+00:00 2022-09-16 17:00:00+00:00\n",
      "GBP_AUD H1 4001 2022-01-27 00:00:00+00:00 2022-09-16 20:00:00+00:00\n",
      "GBP_AUD H4 4001 2020-02-25 02:00:00+00:00 2022-09-16 17:00:00+00:00\n",
      "CHF_JPY H1 4001 2022-01-27 00:00:00+00:00 2022-09-16 20:00:00+00:00\n",
      "CHF_JPY H4 4001 2020-02-25 02:00:00+00:00 2022-09-16 17:00:00+00:00\n",
      "NZD_USD H1 4001 2022-01-27 00:00:00+00:00 2022-09-16 20:00:00+00:00\n",
      "NZD_USD H4 4001 2020-02-25 02:00:00+00:00 2022-09-16 17:00:00+00:00\n",
      "NZD_JPY H1 4001 2022-01-27 00:00:00+00:00 2022-09-16 20:00:00+00:00\n",
      "NZD_JPY H4 4001 2020-02-25 02:00:00+00:00 2022-09-16 17:00:00+00:00\n",
      "NZD_CHF H1 4001 2022-01-27 00:00:00+00:00 2022-09-16 20:00:00+00:00\n",
      "NZD_CHF H4 4001 2020-02-25 02:00:00+00:00 2022-09-16 17:00:00+00:00\n",
      "NZD_CAD H1 4001 2022-01-27 00:00:00+00:00 2022-09-16 20:00:00+00:00\n",
      "NZD_CAD H4 4001 2020-02-25 02:00:00+00:00 2022-09-16 17:00:00+00:00\n",
      "CAD_JPY H1 4001 2022-01-27 00:00:00+00:00 2022-09-16 20:00:00+00:00\n",
      "CAD_JPY H4 4001 2020-02-25 02:00:00+00:00 2022-09-16 17:00:00+00:00\n",
      "CAD_CHF H1 4001 2022-01-27 00:00:00+00:00 2022-09-16 20:00:00+00:00\n",
      "CAD_CHF H4 4001 2020-02-25 02:00:00+00:00 2022-09-16 17:00:00+00:00\n",
      "AUD_USD H1 4001 2022-01-27 00:00:00+00:00 2022-09-16 20:00:00+00:00\n",
      "AUD_USD H4 4001 2020-02-25 02:00:00+00:00 2022-09-16 17:00:00+00:00\n",
      "AUD_JPY H1 4001 2022-01-27 00:00:00+00:00 2022-09-16 20:00:00+00:00\n",
      "AUD_JPY H4 4001 2020-02-25 02:00:00+00:00 2022-09-16 17:00:00+00:00\n",
      "AUD_CHF H1 4001 2022-01-27 00:00:00+00:00 2022-09-16 20:00:00+00:00\n",
      "AUD_CHF H4 4001 2020-02-25 02:00:00+00:00 2022-09-16 17:00:00+00:00\n",
      "AUD_NZD H1 4001 2022-01-27 00:00:00+00:00 2022-09-16 20:00:00+00:00\n",
      "AUD_NZD H4 4001 2020-02-25 02:00:00+00:00 2022-09-16 17:00:00+00:00\n",
      "AUD_CAD H1 4001 2022-01-27 00:00:00+00:00 2022-09-16 20:00:00+00:00\n",
      "AUD_CAD H4 4001 2020-02-25 02:00:00+00:00 2022-09-16 17:00:00+00:00\n"
     ]
    }
   ],
   "source": [
    "for p1 in our_curr:\n",
    "    for p2 in our_curr:\n",
    "        pr=f\"{p1}_{p2}\"\n",
    "        if pr in instruments_dict:\n",
    "            for g in [\"H1\", \"H4\"]:\n",
    "                create_data_file(pr,count=4001, granularity=g, path=\"D:/ML Materials/Forex Course/data/\")"
   ]
  }
 ],
 "metadata": {
  "kernelspec": {
   "display_name": "Python 3.10.4 ('flask_sqlalchemy')",
   "language": "python",
   "name": "python3"
  },
  "language_info": {
   "codemirror_mode": {
    "name": "ipython",
    "version": 3
   },
   "file_extension": ".py",
   "mimetype": "text/x-python",
   "name": "python",
   "nbconvert_exporter": "python",
   "pygments_lexer": "ipython3",
   "version": "3.10.4"
  },
  "orig_nbformat": 4,
  "vscode": {
   "interpreter": {
    "hash": "15dced5e1339d6ef35f5caf17217a371d6e6047b403215d077419b121f3c7970"
   }
  }
 },
 "nbformat": 4,
 "nbformat_minor": 2
}
